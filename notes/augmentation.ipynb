{
 "cells": [
  {
   "cell_type": "code",
   "execution_count": 1,
   "id": "3ce0cae4",
   "metadata": {},
   "outputs": [],
   "source": [
    "import numpy as np\n",
    "import cv2\n",
    "from pathlib import Path\n",
    "import sys\n",
    "sys.path.append('../src')"
   ]
  },
  {
   "cell_type": "code",
   "execution_count": 2,
   "id": "566bd1c7",
   "metadata": {},
   "outputs": [],
   "source": [
    "TEST_IMAGE_PATH = Path('../data/given/clear/33574917403_d4a68d6f52_c.jpg')\n",
    "TEST_DEPTH_PATH = Path(str(TEST_IMAGE_PATH.with_suffix('')) + '_depth.png')"
   ]
  },
  {
   "cell_type": "code",
   "execution_count": null,
   "id": "48b7f0c9",
   "metadata": {},
   "outputs": [],
   "source": [
    "from matplotlib import pyplot as plt\n",
    "\n",
    "image = cv2.imread(TEST_IMAGE_PATH)\n",
    "depth = cv2.imread(TEST_DEPTH_PATH, cv2.IMREAD_GRAYSCALE)\n",
    "depth.resize(image.shape[:2])\n",
    "depth = depth[..., np.newaxis] / 255.0\n",
    "\n",
    "plt.figure(figsize=(12, 6))\n",
    "\n",
    "plt.subplot(121)\n",
    "plt.imshow(cv2.cvtColor(image, cv2.COLOR_BGR2RGB))\n",
    "plt.title('Original Image')\n",
    "plt.axis('off')\n",
    "\n",
    "plt.subplot(122)\n",
    "plt.imshow(depth, cmap='gray')\n",
    "plt.colorbar()\n",
    "plt.title('Depth Map')\n",
    "plt.axis('off')\n",
    "\n",
    "plt.tight_layout()\n",
    "plt.show()\n"
   ]
  },
  {
   "cell_type": "code",
   "execution_count": 4,
   "id": "167c188b",
   "metadata": {},
   "outputs": [
    {
     "name": "stdout",
     "output_type": "stream",
     "text": [
      "Brightest point coordinates (y, x): (np.int64(128), np.int64(503)), [251 255 255]\n"
     ]
    }
   ],
   "source": [
    "brightest_point = np.unravel_index(np.argmax(cv2.cvtColor(image, cv2.COLOR_BGR2GRAY)), image.shape[:2])\n",
    "c_inf = image[brightest_point]\n",
    "print(f\"Brightest point coordinates (y, x): {brightest_point}, {c_inf}\")\n"
   ]
  },
  {
   "cell_type": "code",
   "execution_count": null,
   "id": "691581eb",
   "metadata": {},
   "outputs": [],
   "source": [
    "from dcp_dehaze import haze, dehaze\n",
    "\n",
    "hazed = haze(image, depth, 2)\n",
    "cv2.imwrite('hazed.jpg', hazed)\n",
    "dehazed = dehaze(hazed, dcp_kernel_size=31, filter_size=31, t0=0.1, dcp_kernel_type='square')\n",
    "plt.figure(figsize=(12, 6))\n",
    "\n",
    "plt.subplot(1, 2, 1)\n",
    "plt.imshow(cv2.cvtColor(hazed, cv2.COLOR_BGR2RGB))\n",
    "plt.title('Hazed Image')\n",
    "plt.axis('off')\n",
    "\n",
    "plt.subplot(1, 2, 2)\n",
    "plt.imshow(cv2.cvtColor((dehazed), cv2.COLOR_BGR2RGB))\n",
    "plt.title('Dehazed Image')\n",
    "plt.axis('off')\n",
    "\n",
    "plt.tight_layout()\n"
   ]
  },
  {
   "cell_type": "code",
   "execution_count": 10,
   "id": "470a25c8",
   "metadata": {},
   "outputs": [
    {
     "name": "stderr",
     "output_type": "stream",
     "text": [
      "100%|██████████| 290/290 [00:44<00:00,  6.51it/s]\n"
     ]
    }
   ],
   "source": [
    "from tqdm import tqdm\n",
    "from PIL import Image\n",
    "\n",
    "comparsion_frames = []\n",
    "for degree in tqdm(np.arange(0.5, 15, 0.05)):\n",
    "    hazed = haze(image, depth, degree)\n",
    "    dehazed = dehaze(hazed, dcp_kernel_size=31, filter_size=31, t0=0.05)\n",
    "    concatenated = np.concatenate((hazed, dehazed), axis=1)\n",
    "    \n",
    "    pil_image = Image.fromarray(cv2.cvtColor(concatenated, cv2.COLOR_BGR2RGB))\n",
    "    comparsion_frames.append(pil_image)"
   ]
  },
  {
   "cell_type": "code",
   "execution_count": null,
   "id": "00b5fcd0",
   "metadata": {},
   "outputs": [],
   "source": [
    "from IPython.display import Image as IPImage\n",
    "# Save as GIF\n",
    "print(\"Creating a GIF...\")\n",
    "comparsion_frames[0].save('comparsion.gif', save_all=True, append_images=comparsion_frames[1:], duration=50, loop=0)\n",
    "IPImage(filename='comparsion.gif')"
   ]
  },
  {
   "cell_type": "code",
   "execution_count": null,
   "id": "b23db3a2",
   "metadata": {},
   "outputs": [],
   "source": []
  }
 ],
 "metadata": {
  "kernelspec": {
   "display_name": "Python 3",
   "language": "python",
   "name": "python3"
  },
  "language_info": {
   "codemirror_mode": {
    "name": "ipython",
    "version": 3
   },
   "file_extension": ".py",
   "mimetype": "text/x-python",
   "name": "python",
   "nbconvert_exporter": "python",
   "pygments_lexer": "ipython3",
   "version": "3.10.11"
  }
 },
 "nbformat": 4,
 "nbformat_minor": 5
}
